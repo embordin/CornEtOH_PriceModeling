{
  "nbformat": 4,
  "nbformat_minor": 0,
  "metadata": {
    "colab": {
      "provenance": [],
      "authorship_tag": "ABX9TyPLEzzm6C3KI9qDe8MXJk+0",
      "include_colab_link": true
    },
    "kernelspec": {
      "name": "python3",
      "display_name": "Python 3"
    },
    "language_info": {
      "name": "python"
    }
  },
  "cells": [
    {
      "cell_type": "markdown",
      "metadata": {
        "id": "view-in-github",
        "colab_type": "text"
      },
      "source": [
        "<a href=\"https://colab.research.google.com/github/embordin/CornEtOH_PriceModeling/blob/main/CornEtOH_Price_Modeling1.ipynb\" target=\"_parent\"><img src=\"https://colab.research.google.com/assets/colab-badge.svg\" alt=\"Open In Colab\"/></a>"
      ]
    },
    {
      "cell_type": "code",
      "execution_count": 1,
      "metadata": {
        "colab": {
          "base_uri": "https://localhost:8080/"
        },
        "id": "uetpadsNwnYh",
        "outputId": "8c6d0d3f-c9da-43f1-b038-93645cc53572"
      },
      "outputs": [
        {
          "output_type": "stream",
          "name": "stdout",
          "text": [
            "Mounted at /content/drive\n"
          ]
        }
      ],
      "source": [
        "from google.colab import drive\n",
        "drive.mount('/content/drive')"
      ]
    },
    {
      "cell_type": "code",
      "source": [
        "import pandas as pd\n",
        "import datetime as dt\n",
        "import matplotlib.pyplot as plt\n",
        "import numpy as np\n",
        "\n",
        "import seaborn as sns\n",
        "from datetime import datetime, timedelta\n",
        "#import plotly.offline as py\n",
        "import plotly.express as px\n",
        "#import plotly.graph_objs as go\n",
        "#from plotly.subplots import make_subplots\n",
        "#import plotly.subplots as sp\n",
        "import statsmodels\n",
        "sns.set_theme(style=\"whitegrid\")"
      ],
      "metadata": {
        "id": "jiLXbIekwqYK"
      },
      "execution_count": 2,
      "outputs": []
    },
    {
      "cell_type": "code",
      "source": [
        "pasta_raiz = '/content/drive/MyDrive/JFH_RO/'"
      ],
      "metadata": {
        "id": "8gEQ9jmFwu2N"
      },
      "execution_count": null,
      "outputs": []
    },
    {
      "cell_type": "code",
      "source": [
        "dates= ['Data_EtOHhid_paulinia']\n",
        "#dates.apply(lambda t: pd.to_datetime(t, format='%d/%m/%Y'))\n",
        "df_rawdata_EtOH_paulinia = pd.read_excel(f'{pasta_raiz}/EDA_price_estimation.xlsx', sheet_name='rawdata_EtOH_paulinia', parse_dates=dates)\n",
        "df_rawdata_EtOH_paulinia.head(5)"
      ],
      "metadata": {
        "id": "GLjMbiwtwyrM"
      },
      "execution_count": null,
      "outputs": []
    },
    {
      "cell_type": "code",
      "source": [
        "fig= px.scatter(df_rawdata_EtOH_paulinia, x=\"Data_EtOHhid_paulinia\", y=['USD_EtOHhid_paulinia','BRL_EtOHhid_paulinia'],\n",
        "                title='Cotação Diária EtOH hidratado, Paulinia SP - média móvel = 30 dias', height=600, width=1200,\n",
        "                 trendline= \"rolling\" ,trendline_options=dict(window=30),trendline_scope='trace', trendline_color_override='black',\n",
        "                 opacity=1, color_discrete_sequence=px.colors.qualitative.Vivid, template=\"simple_white\",\n",
        "                 labels={'variable':'cotação', 'value':'USD ou BRL/m3', 'Data_EtOHhid_paulinia':'dia/mês/ano'})\n",
        "\n",
        "fig.update_layout(title_font_color=\"Black\", font_size=(14),title_x=0.1)\n",
        "fig.show()"
      ],
      "metadata": {
        "id": "LqkDL9fZw5Ia"
      },
      "execution_count": null,
      "outputs": []
    }
  ]
}